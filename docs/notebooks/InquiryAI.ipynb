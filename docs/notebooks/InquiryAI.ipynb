{
 "cells": [
  {
   "cell_type": "markdown",
   "id": "3a1cef61-a21f-43f1-855d-84d7f03b9a03",
   "metadata": {},
   "source": [
    "# Using TigerGraph CoPilot - InquiryAI"
   ]
  },
  {
   "cell_type": "markdown",
   "id": "070a8588-3ee4-4e6b-8a21-9ab408ec538b",
   "metadata": {},
   "source": [
    "This notebook demostrates how to use InquiryAI in TigerGraph CoPilot, an AI assistant for your TigerGraph database."
   ]
  },
  {
   "cell_type": "markdown",
   "id": "0836a095-bae5-4904-94da-7bd8dbe165c5",
   "metadata": {},
   "source": [
    "## Prerequisites"
   ]
  },
  {
   "cell_type": "markdown",
   "id": "b0ff6df8-e29b-46b7-b6aa-2e60d3f0cc99",
   "metadata": {},
   "source": [
    "First of all, a running TigerGraph database with version 3.9+ is required. The easist way to get a database running is through [TigerGraph Cloud](https://tgcloud.io). To run TigerGraph on your own environment, please refer to the [official doc](https://docs.tigergraph.com/tigergraph-server/current/getting-started/) for details.\n",
    "\n",
    "Second, we assume you already have the CoPilot service set up. If not, there are two ways to set it up currently. Later, CoPilot will be available on TigerGraph Cloud as a service.  \n",
    "1. Please follow the [instructions](https://github.com/tigergraph/CoPilot?tab=readme-ov-file#getting-started) there to set it up. You will download the source code of CoPilot and run it as a docker container. This way you will be able to modify and extend CoPilot yourself.  \n",
    "2. Or you can pull and run the docker image built by TigerGraph as follows:\n",
    "\n",
    "    ```bash\n",
    "    docker run -d -v ./configs/llm_config.json:/llm_config.json -v ./configs/db_config.json:/db_config.json --name copilot -p 80:80 tigergraphml/copilot\n",
    "    ```\n",
    "    \n",
    "    <br>where `llm_config.json` and `db_config.json` are configuration files for your LLM provider and TigerGraph database. Their structures are specified [here](https://github.com/tigergraph/CoPilot?tab=readme-ov-file#create-llm-provider-configuration-file).\n",
    "    \n",
    "Last, we will use Python package `pyTigerGraph` in this notebook to interact with CoPilot. (You can also communicate with the http endpoints of CoPilot directly if you are not using Python.) As CoPilot is under active development, please use the latest version of pyTigerGraph. To install or update pyTigerGraph, simply\n",
    "```python\n",
    "pip install -U pyTigerGraph\n",
    "```"
   ]
  },
  {
   "cell_type": "markdown",
   "id": "3ee00f72-00af-4fb9-aeb0-cfa169060605",
   "metadata": {},
   "source": [
    "## Create Connections"
   ]
  },
  {
   "cell_type": "code",
   "execution_count": 1,
   "id": "297dcaee-e26c-4d61-ad0d-aabca6d991ca",
   "metadata": {},
   "outputs": [],
   "source": [
    "from pyTigerGraph import TigerGraphConnection"
   ]
  },
  {
   "cell_type": "code",
   "execution_count": 2,
   "id": "887d3e57-903b-4a19-b2a5-2641714ce775",
   "metadata": {},
   "outputs": [],
   "source": [
    "# We first create a connection to the database\n",
    "conn = TigerGraphConnection(\n",
    "    host=\"https://webinar.i.tgcloud.io\",\n",
    "    username=\"user_1\", \n",
    "    password=\"MyPassword1!\")\n",
    "\n",
    "# And then add CoPilot's address to the connection. This address \n",
    "# is the host's address where the CoPilot container is running.\n",
    "conn.ai.configureInquiryAIHost(\"http://18.222.202.55\")"
   ]
  },
  {
   "cell_type": "markdown",
   "id": "12a00645-47eb-4562-b7c4-c29f21edd96b",
   "metadata": {},
   "source": [
    "## Ingest Data"
   ]
  },
  {
   "cell_type": "markdown",
   "id": "b4d47cbf-809e-491d-af05-84120f504a38",
   "metadata": {},
   "source": [
    "If there is already a graph in your TigerGraph database against which you would like to query, then please feel free to skip this section. However, you will probably need to modify the questions below for your own data. \n",
    "\n",
    "Otherwise, we will download and ingest an example dataset, the digital infrastructure graph, which contains TBA"
   ]
  },
  {
   "cell_type": "code",
   "execution_count": 3,
   "id": "6e279ffd-dbb1-44aa-9f9a-407fc88b420d",
   "metadata": {},
   "outputs": [
    {
     "name": "stdout",
     "output_type": "stream",
     "text": [
      "A folder with name DigitalInfra already exists in ./tmp. Skip downloading.\n"
     ]
    }
   ],
   "source": [
    "from pyTigerGraph.datasets import Datasets\n",
    "\n",
    "# First download the dataset\n",
    "dataset = Datasets(\"DigitalInfra\")"
   ]
  },
  {
   "cell_type": "code",
   "execution_count": 4,
   "id": "c5438827-8059-40bc-b79d-de52daea6502",
   "metadata": {},
   "outputs": [
    {
     "name": "stdout",
     "output_type": "stream",
     "text": [
      "---- Checking database ----\n",
      "---- Creating graph ----\n",
      "The graph DigitalInfra is created.\n",
      "---- Creating schema ----\n",
      "Using graph 'DigitalInfra'\n",
      "Successfully created schema change jobs: [create_digital_infra_graph].\n",
      "Kick off schema change job create_digital_infra_graph\n",
      "Doing schema change on graph 'DigitalInfra' (current version: 0)\n",
      "Trying to add local vertex 'Microservice' to the graph 'DigitalInfra'.\n",
      "Trying to add local vertex 'Container' to the graph 'DigitalInfra'.\n",
      "Trying to add local vertex 'BareMetalNode' to the graph 'DigitalInfra'.\n",
      "Trying to add local vertex 'NodeMetric' to the graph 'DigitalInfra'.\n",
      "Trying to add local vertex 'ContainerMetric' to the graph 'DigitalInfra'.\n",
      "Trying to add local vertex 'UserService' to the graph 'DigitalInfra'.\n",
      "Trying to add local vertex 'Trace' to the graph 'DigitalInfra'.\n",
      "Trying to add local vertex 'MSCall' to the graph 'DigitalInfra'.\n",
      "Trying to add local edge 'RUNS_IN' and its reverse edge 'reverse_RUNS_IN' to the graph 'DigitalInfra'.\n",
      "Trying to add local edge 'DEPLOYED_ON' and its reverse edge 'reverse_DEPLOYED_ON' to the graph 'DigitalInfra'.\n",
      "Trying to add local edge 'HAS_UTILIZATION' and its reverse edge 'reverse_HAS_UTILIZATION' to the graph 'DigitalInfra'.\n",
      "Trying to add local edge 'HAS' and its reverse edge 'reverse_HAS' to the graph 'DigitalInfra'.\n",
      "Trying to add local edge 'IN_TRACE' and its reverse edge 'reverse_IN_TRACE' to the graph 'DigitalInfra'.\n",
      "Trying to add local edge 'MAKES_CALL' to the graph 'DigitalInfra'.\n",
      "Trying to add local edge 'RECEIVES_CALL' to the graph 'DigitalInfra'.\n",
      "Trying to add local edge 'CALLS' and its reverse edge 'reverse_CALLS' to the graph 'DigitalInfra'.\n",
      "Trying to add local edge 'HAS_CHILD_CALL' and its reverse edge 'reverse_HAS_CHILD_CALL' to the graph 'DigitalInfra'.\n",
      "\n",
      "Graph DigitalInfra updated to new version 1\n",
      "The job create_digital_infra_graph completes in 2.407 seconds!\n",
      "Local schema change succeeded.\n",
      "---- Creating loading job ----\n",
      "Using graph 'DigitalInfra'\n",
      "Successfully created loading jobs: [load_digital_infra].\n",
      "---- Ingesting data ----\n",
      "---- Cleaning ----\n",
      "---- Finished ingestion ----\n"
     ]
    }
   ],
   "source": [
    "# Then ingest it into the database. If your database doesn't have token\n",
    "# authentication enabled, then set `getToken` to False. Databases on \n",
    "# TigerGraph Cloud always have token authentication enabled.\n",
    "conn.ingestDataset(dataset, getToken=True)"
   ]
  },
  {
   "cell_type": "markdown",
   "id": "dbd0e240-6d7e-4d2d-aa7b-0712fcf81f58",
   "metadata": {},
   "source": [
    "## Query"
   ]
  },
  {
   "cell_type": "code",
   "execution_count": 7,
   "id": "996bffd3-7bd4-4bf3-9fcf-c6357f7a0c6a",
   "metadata": {},
   "outputs": [
    {
     "data": {
      "text/plain": [
       "{'natural_language_response': 'There are 46148 servers.',\n",
       " 'answered_question': True,\n",
       " 'query_sources': {'function_call': \"getVertexCount('BareMetalNode')\",\n",
       "  'result': 46148,\n",
       "  'reasoning': \"The function getVertexCount is used because we need to count the number of vertices of a specific type, in this case 'BareMetalNode'. The function returns the number of vertices of the specified type, which is exactly what the question is asking for.\"}}"
      ]
     },
     "execution_count": 7,
     "metadata": {},
     "output_type": "execute_result"
    }
   ],
   "source": [
    "# Now we can ask ours questions \n",
    "conn.ai.query(\"How many servers are there?\")"
   ]
  }
 ],
 "metadata": {
  "kernelspec": {
   "display_name": "PyTorch",
   "language": "python",
   "name": "python3"
  },
  "language_info": {
   "codemirror_mode": {
    "name": "ipython",
    "version": 3
   },
   "file_extension": ".py",
   "mimetype": "text/x-python",
   "name": "python",
   "nbconvert_exporter": "python",
   "pygments_lexer": "ipython3",
   "version": "3.9.16"
  }
 },
 "nbformat": 4,
 "nbformat_minor": 5
}
