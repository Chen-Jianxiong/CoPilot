{
 "cells": [
  {
   "cell_type": "code",
   "execution_count": null,
   "metadata": {},
   "outputs": [],
   "source": [
    "from pyTigerGraph import TigerGraphConnection\n",
    "\n",
    "# We first create a connection to the database\n",
    "conn = TigerGraphConnection(\n",
    "    host=\"https://YOUR_DB_ADDRESS\",\n",
    "    username=\"YOUR_DB_USERNAME\", \n",
    "    password=\"YOUR_DB_PASSWORD\")\n",
    "\n",
    "# And then add CoPilot's address to the connection. This address \n",
    "# is the host's address where the CoPilot container is running.\n",
    "conn.ai.configureCoPilotHost(\"http://COPILOT_ADDRESS\")"
   ]
  }
 ],
 "metadata": {
  "language_info": {
   "name": "python"
  }
 },
 "nbformat": 4,
 "nbformat_minor": 2
}
